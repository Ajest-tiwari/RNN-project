{
 "cells": [
  {
   "cell_type": "code",
   "execution_count": 1,
   "id": "0a1fbe81-6e4d-4e17-8f13-d4ce805d5386",
   "metadata": {},
   "outputs": [
    {
     "name": "stdout",
     "output_type": "stream",
     "text": [
      "libraries imported 😎\n"
     ]
    }
   ],
   "source": [
    "import re \n",
    "import nltk \n",
    "from nltk.corpus import stopwords\n",
    "from nltk.stem import PorterStemmer ## stemming \n",
    "from nltk.stem import WordNetLemmatizer  ## lemmatization\n",
    "import joblib,os \n",
    "from tensorflow.keras.preprocessing.text import Tokenizer\n",
    "from tensorflow.keras.utils import pad_sequences \n",
    "from sklearn.preprocessing import LabelEncoder ,OneHotEncoder\n",
    "from sklearn.model_selection import train_test_split\n",
    "\n",
    "print('libraries imported 😎')"
   ]
  },
  {
   "cell_type": "code",
   "execution_count": 2,
   "id": "47db29d5-dacc-45b5-9cb5-e170808a3f96",
   "metadata": {},
   "outputs": [],
   "source": [
    "train_data = open(\"./Data/train.txt\").readlines()\n",
    "val_data = open(\"./Data/val.txt\").readlines()\n",
    "test_data = open(\"./Data/test.txt\").readlines()"
   ]
  },
  {
   "cell_type": "code",
   "execution_count": 3,
   "id": "7c6d305d-1a6a-40f3-895b-0cf4b34226a3",
   "metadata": {},
   "outputs": [
    {
     "name": "stdout",
     "output_type": "stream",
     "text": [
      "16000\n",
      "2000\n",
      "2000\n"
     ]
    }
   ],
   "source": [
    "print(len(train_data))\n",
    "print(len(val_data))\n",
    "print(len(test_data))"
   ]
  },
  {
   "cell_type": "code",
   "execution_count": 4,
   "id": "95988282-d8c8-446e-83a4-33b33f3d3639",
   "metadata": {},
   "outputs": [
    {
     "name": "stdout",
     "output_type": "stream",
     "text": [
      "20000\n"
     ]
    }
   ],
   "source": [
    "complet_data = train_data + test_data + val_data \n",
    "print(len(complet_data))"
   ]
  },
  {
   "cell_type": "code",
   "execution_count": 5,
   "id": "0e5d4bfa-7084-47f7-b5b1-1af1eba9338f",
   "metadata": {},
   "outputs": [],
   "source": [
    "x=[]\n",
    "y=[]\n",
    "for temp in complet_data:\n",
    "    complete = temp.split(';')\n",
    "    if len(complete)==2:\n",
    "        x.append(complete[0])\n",
    "        y.append(complete[1].strip())"
   ]
  },
  {
   "cell_type": "code",
   "execution_count": 6,
   "id": "59dc5fb3-5861-48cc-a289-8ebb6aba8dbf",
   "metadata": {},
   "outputs": [
    {
     "data": {
      "text/plain": [
       "['sadness', 'anger', 'love', 'surprise', 'fear', 'joy']"
      ]
     },
     "execution_count": 6,
     "metadata": {},
     "output_type": "execute_result"
    }
   ],
   "source": [
    "labels=[]\n",
    "for item in y:\n",
    "        if item not in labels:\n",
    "            labels.append(item)\n",
    "labels "
   ]
  },
  {
   "cell_type": "code",
   "execution_count": 7,
   "id": "9f4ad9e5-a811-472b-86c4-2594f3b9381b",
   "metadata": {},
   "outputs": [],
   "source": [
    "def text_cleaning(sentences,stemming):\n",
    "    cleaned_data = []\n",
    "    for sentece in sentences: \n",
    "        message = sentece.lower()\n",
    "        message = re.sub('[^a-z0-9 ]',\"\",message)\n",
    "        ls_of_words = nltk.word_tokenize(message)\n",
    "        ls_of_word_without_stopwords = [word for word in ls_of_words if word not in stopwords.words('english')]\n",
    "        stemmed_words = [stemming.stem(word) for word in ls_of_word_without_stopwords ]\n",
    "        message = \" \".join(stemmed_words)\n",
    "        cleaned_data.append(message)\n",
    "    return cleaned_data\n",
    "\n",
    "stem = PorterStemmer()\n",
    "cleaned_data = text_cleaning(x,stemming=stem)\n"
   ]
  },
  {
   "cell_type": "code",
   "execution_count": 8,
   "id": "18170659-83cf-4b97-93b3-4b950785488b",
   "metadata": {},
   "outputs": [
    {
     "name": "stdout",
     "output_type": "stream",
     "text": [
      "successfully saved your cleaned data!\n"
     ]
    }
   ],
   "source": [
    "os.makedirs('models',exist_ok=True)\n",
    "joblib.dump(cleaned_data,\"./models/cleaned_data.lb\")\n",
    "print(\"successfully saved your cleaned data!\")\n"
   ]
  },
  {
   "cell_type": "code",
   "execution_count": 9,
   "id": "fde007a1-e537-4853-a33c-fa1461047870",
   "metadata": {},
   "outputs": [
    {
     "name": "stdout",
     "output_type": "stream",
     "text": [
      "i can go from feeling so hopeless to so damned hopeful just from being around someone who cares and is awake\n",
      "['go', 'feeling', 'hopeless', 'damned', 'hopeful', 'around', 'someone', 'cares', 'awake']\n",
      "['go', 'feel', 'hopeless', 'damn', 'hope', 'around', 'someon', 'care', 'awak']\n"
     ]
    },
    {
     "data": {
      "text/plain": [
       "'go feel hopeless damn hope around someon care awak'"
      ]
     },
     "execution_count": 9,
     "metadata": {},
     "output_type": "execute_result"
    }
   ],
   "source": [
    "ls_of_stopwords = stopwords.words('english')\n",
    "print(x[1])\n",
    "single_message = x[1].lower()\n",
    "single_message = re.sub('[^a-z0-9 ]',\"\",single_message)\n",
    "ls_of_words = nltk.word_tokenize(single_message)  # single_message.split()\n",
    "ls_of_word_without_stopwords = []\n",
    "for word in ls_of_words: \n",
    "    if word not in ls_of_stopwords:\n",
    "        ls_of_word_without_stopwords.append(word)\n",
    "print(ls_of_word_without_stopwords)\n",
    "stem = PorterStemmer()\n",
    "stemmed_words = []\n",
    "for word in ls_of_word_without_stopwords: \n",
    "    stemmed_words.append(stem.stem(word))\n",
    "print(stemmed_words)\n",
    "\" \".join(stemmed_words)"
   ]
  },
  {
   "cell_type": "code",
   "execution_count": 10,
   "id": "0bab04d8-6ffa-45c6-bc75-2ea578120025",
   "metadata": {},
   "outputs": [
    {
     "name": "stdout",
     "output_type": "stream",
     "text": [
      "successfully saved your tokenizer at this location : './models/tokenizer.lb'\n"
     ]
    }
   ],
   "source": [
    "tokenizer = Tokenizer(oov_token=\"<nothing>\")\n",
    "tokenizer.fit_on_texts(cleaned_data)\n",
    "joblib.dump(tokenizer,'./models/tokenizer.lb')\n",
    "print(\"successfully saved your tokenizer at this location : './models/tokenizer.lb'\")"
   ]
  },
  {
   "cell_type": "code",
   "execution_count": 11,
   "id": "859563e4-9169-4d5f-a986-90da050c0fa0",
   "metadata": {},
   "outputs": [
    {
     "data": {
      "text/plain": [
       "OrderedDict([('didnt', 334),\n",
       "             ('feel', 21204),\n",
       "             ('humili', 69),\n",
       "             ('go', 1101),\n",
       "             ('hopeless', 81),\n",
       "             ('damn', 54),\n",
       "             ('hope', 320),\n",
       "             ('around', 382),\n",
       "             ('someon', 335),\n",
       "             ('care', 254),\n",
       "             ('awak', 22),\n",
       "             ('im', 3055),\n",
       "             ('grab', 22),\n",
       "             ('minut', 79),\n",
       "             ('post', 234),\n",
       "             ('greedi', 79),\n",
       "             ('wrong', 152),\n",
       "             ('ever', 260),\n",
       "             ('nostalg', 63),\n",
       "             ('fireplac', 3),\n",
       "             ('know', 1192),\n",
       "             ('still', 743),\n",
       "             ('properti', 5),\n",
       "             ('grouchi', 35),\n",
       "             ('ive', 723),\n",
       "             ('littl', 932),\n",
       "             ('burden', 95),\n",
       "             ('late', 167),\n",
       "             ('wasnt', 119),\n",
       "             ('sure', 310),\n",
       "             ('take', 403),\n",
       "             ('milligram', 1),\n",
       "             ('time', 1215),\n",
       "             ('recommend', 19),\n",
       "             ('amount', 51),\n",
       "             ('fallen', 7),\n",
       "             ('asleep', 19),\n",
       "             ('lot', 323),\n",
       "             ('faster', 14),\n",
       "             ('also', 423),\n",
       "             ('like', 3760),\n",
       "             ('funni', 93),\n",
       "             ('confus', 96),\n",
       "             ('life', 685),\n",
       "             ('teenag', 24),\n",
       "             ('jade', 51),\n",
       "             ('year', 408),\n",
       "             ('old', 151),\n",
       "             ('man', 107),\n",
       "             ('petrona', 2),\n",
       "             ('perform', 36),\n",
       "             ('well', 348),\n",
       "             ('made', 368),\n",
       "             ('huge', 37),\n",
       "             ('profit', 5),\n",
       "             ('romant', 66),\n",
       "             ('make', 1144),\n",
       "             ('suffer', 89),\n",
       "             ('see', 515),\n",
       "             ('mean', 192),\n",
       "             ('someth', 631),\n",
       "             ('run', 195),\n",
       "             ('divin', 71),\n",
       "             ('experi', 129),\n",
       "             ('expect', 97),\n",
       "             ('type', 77),\n",
       "             ('spiritu', 23),\n",
       "             ('encount', 13),\n",
       "             ('think', 904),\n",
       "             ('easiest', 2),\n",
       "             ('dissatisfi', 69),\n",
       "             ('low', 107),\n",
       "             ('energi', 90),\n",
       "             ('thirsti', 3),\n",
       "             ('immens', 12),\n",
       "             ('sympathi', 16),\n",
       "             ('gener', 235),\n",
       "             ('point', 182),\n",
       "             ('possibl', 104),\n",
       "             ('proto', 1),\n",
       "             ('writer', 33),\n",
       "             ('tri', 510),\n",
       "             ('find', 325),\n",
       "             ('write', 325),\n",
       "             ('corner', 19),\n",
       "             ('sign', 25),\n",
       "             ('agent', 5),\n",
       "             ('let', 257),\n",
       "             ('alon', 194),\n",
       "             ('publish', 19),\n",
       "             ('contract', 16),\n",
       "             ('preciou', 74),\n",
       "             ('reassur', 58),\n",
       "             ('anxieti', 35),\n",
       "             ('side', 88),\n",
       "             ('realli', 1182),\n",
       "             ('embarrass', 100),\n",
       "             ('pretti', 491),\n",
       "             ('pathet', 72),\n",
       "             ('start', 575),\n",
       "             ('sentiment', 45),\n",
       "             ('doll', 9),\n",
       "             ('child', 103),\n",
       "             ('began', 70),\n",
       "             ('collect', 21),\n",
       "             ('vintag', 9),\n",
       "             ('barbi', 3),\n",
       "             ('sixti', 2),\n",
       "             ('compromis', 7),\n",
       "             ('skeptic', 47),\n",
       "             ('valu', 101),\n",
       "             ('everi', 311),\n",
       "             ('unit', 7),\n",
       "             ('work', 590),\n",
       "             ('put', 228),\n",
       "             ('irrit', 173),\n",
       "             ('reject', 87),\n",
       "             ('without', 264),\n",
       "             ('anyon', 160),\n",
       "             ('anyth', 278),\n",
       "             ('say', 563),\n",
       "             ('complet', 196),\n",
       "             ('overwhelm', 187),\n",
       "             ('two', 186),\n",
       "             ('strategi', 8),\n",
       "             ('help', 432),\n",
       "             ('ground', 45),\n",
       "             ('pour', 11),\n",
       "             ('heart', 204),\n",
       "             ('journal', 19),\n",
       "             ('form', 26),\n",
       "             ('letter', 30),\n",
       "             ('god', 190),\n",
       "             ('end', 247),\n",
       "             ('list', 69),\n",
       "             ('five', 33),\n",
       "             ('thing', 841),\n",
       "             ('grate', 58),\n",
       "             ('amus', 47),\n",
       "             ('delight', 51),\n",
       "             ('abl', 223),\n",
       "             ('chai', 2),\n",
       "             ('lifelin', 2),\n",
       "             ('support', 267),\n",
       "             ('encourag', 25),\n",
       "             ('great', 140),\n",
       "             ('glad', 111),\n",
       "             ('alreadi', 196),\n",
       "             ('fuck', 150),\n",
       "             ('though', 365),\n",
       "             ('dont', 596),\n",
       "             ('usual', 125),\n",
       "             ('eat', 141),\n",
       "             ('morn', 186),\n",
       "             ('love', 988),\n",
       "             ('wish', 138),\n",
       "             ('best', 124),\n",
       "             ('longer', 83),\n",
       "             ('toler', 10),\n",
       "             ('effect', 47),\n",
       "             ('bm', 1),\n",
       "             ('live', 317),\n",
       "             ('fact', 142),\n",
       "             ('turn', 127),\n",
       "             ('bitter', 72),\n",
       "             ('angri', 158),\n",
       "             ('person', 370),\n",
       "             ('alway', 454),\n",
       "             ('particularli', 103),\n",
       "             ('kind', 287),\n",
       "             ('peopl', 857),\n",
       "             ('stress', 229),\n",
       "             ('inhibit', 34),\n",
       "             ('els', 146),\n",
       "             ('kitchen', 19),\n",
       "             ('paint', 39),\n",
       "             ('pictur', 79),\n",
       "             ('becom', 168),\n",
       "             ('defeat', 72),\n",
       "             ('kinda', 77),\n",
       "             ('appal', 18),\n",
       "             ('need', 636),\n",
       "             ('explain', 59),\n",
       "             ('wide', 11),\n",
       "             ('lenghth', 1),\n",
       "             ('bodi', 155),\n",
       "             ('measur', 13),\n",
       "             ('etc', 53),\n",
       "             ('pp', 1),\n",
       "             ('superior', 66),\n",
       "             ('dead', 25),\n",
       "             ('chicken', 12),\n",
       "             ('griev', 9),\n",
       "             ('get', 1228),\n",
       "             ('giddi', 8),\n",
       "             ('eleg', 29),\n",
       "             ('perfectli', 23),\n",
       "             ('fit', 59),\n",
       "             ('pencil', 5),\n",
       "             ('skirt', 6),\n",
       "             ('rememb', 250),\n",
       "             ('acut', 4),\n",
       "             ('distress', 49),\n",
       "             ('day', 851),\n",
       "             ('seen', 47),\n",
       "             ('heard', 42),\n",
       "             ('read', 303),\n",
       "             ('past', 139),\n",
       "             ('coupl', 76),\n",
       "             ('left', 268),\n",
       "             ('impress', 93),\n",
       "             ('compani', 43),\n",
       "             ('climb', 17),\n",
       "             ('hill', 11),\n",
       "             ('frustrat', 136),\n",
       "             ('id', 164),\n",
       "             ('much', 618),\n",
       "             ('pace', 21),\n",
       "             ('entir', 61),\n",
       "             ('cours', 69),\n",
       "             ('factor', 7),\n",
       "             ('never', 329),\n",
       "             ('hamper', 2),\n",
       "             ('dent', 2),\n",
       "             ('imagin', 61),\n",
       "             ('real', 129),\n",
       "             ('scenario', 5),\n",
       "             ('would', 798),\n",
       "             ('emot', 231),\n",
       "             ('connect', 72),\n",
       "             ('enough', 295),\n",
       "             ('total', 130),\n",
       "             ('accept', 252),\n",
       "             ('safe', 107),\n",
       "             ('moral', 18),\n",
       "             ('close', 107),\n",
       "             ('prolong', 3),\n",
       "             ('physic', 73),\n",
       "             ('contact', 24),\n",
       "             ('sex', 35),\n",
       "             ('subsequ', 2),\n",
       "             ('content', 140),\n",
       "             ('creativ', 102),\n",
       "             ('howev', 70),\n",
       "             ('want', 1064),\n",
       "             ('caus', 112),\n",
       "             ('less', 308),\n",
       "             ('splendid', 14),\n",
       "             ('self', 146),\n",
       "             ('step', 63),\n",
       "             ('away', 277),\n",
       "             ('bit', 650),\n",
       "             ('rude', 76),\n",
       "             ('elderli', 3),\n",
       "             ('gentleman', 1),\n",
       "             ('ask', 202),\n",
       "             ('gift', 53),\n",
       "             ('christma', 63),\n",
       "             ('mild', 7),\n",
       "             ('greed', 4),\n",
       "             ('protect', 37),\n",
       "             ('small', 77),\n",
       "             ('season', 43),\n",
       "             ('word', 171),\n",
       "             ('plan', 99),\n",
       "             ('share', 181),\n",
       "             ('everyday', 39),\n",
       "             ('stori', 126),\n",
       "             ('travel', 31),\n",
       "             ('adventur', 73),\n",
       "             ('inspir', 114),\n",
       "             ('handmad', 2),\n",
       "             ('creation', 8),\n",
       "             ('tree', 36),\n",
       "             ('got', 347),\n",
       "             ('festiv', 68),\n",
       "             ('spur', 3),\n",
       "             ('book', 196),\n",
       "             ('worn', 11),\n",
       "             ('conceal', 3),\n",
       "             ('brave', 87),\n",
       "             ('pale', 6),\n",
       "             ('perfect', 114),\n",
       "             ('strongli', 44),\n",
       "             ('passion', 164),\n",
       "             ('jerk', 5),\n",
       "             ('decid', 133),\n",
       "             ('poke', 7),\n",
       "             ('fun', 81),\n",
       "             ('us', 188),\n",
       "             ('discourag', 83),\n",
       "             ('rob', 5),\n",
       "             ('peter', 9),\n",
       "             ('pay', 46),\n",
       "             ('paul', 5),\n",
       "             ('cow', 7),\n",
       "             ('cant', 376),\n",
       "             ('afford', 9),\n",
       "             ('way', 641),\n",
       "             ('listless', 55),\n",
       "             ('new', 245),\n",
       "             ('differ', 120),\n",
       "             ('lost', 155),\n",
       "             ('special', 117),\n",
       "             ('mind', 136),\n",
       "             ('worri', 101),\n",
       "             ('sane', 2),\n",
       "             ('felt', 326),\n",
       "             ('mani', 292),\n",
       "             ('said', 220),\n",
       "             ('sam', 8),\n",
       "             ('guarante', 5),\n",
       "             ('use', 387),\n",
       "             ('paragraph', 2),\n",
       "             ('tell', 268),\n",
       "             ('sad', 195),\n",
       "             ('first', 226),\n",
       "             ('home', 282),\n",
       "             ('mine', 66),\n",
       "             ('boat', 9),\n",
       "             ('trip', 55),\n",
       "             ('denmark', 1),\n",
       "             ('stop', 199),\n",
       "             ('cold', 139),\n",
       "             ('hot', 98),\n",
       "             ('dough', 1),\n",
       "             ('found', 123),\n",
       "             ('selfish', 83),\n",
       "             ('spoil', 5),\n",
       "             ('stymi', 1),\n",
       "             ('wrote', 38),\n",
       "             ('unsur', 82),\n",
       "             ('might', 172),\n",
       "             ('somewher', 30),\n",
       "             ('unintend', 1),\n",
       "             ('bag', 30),\n",
       "             ('qaf', 1),\n",
       "             ('look', 517),\n",
       "             ('cryin', 1),\n",
       "             ('jacynth', 1),\n",
       "             ('lookin', 1),\n",
       "             ('good', 499),\n",
       "             ('feelin', 8),\n",
       "             ('gorgeou', 73),\n",
       "             ('rupaul', 1),\n",
       "             ('skin', 62),\n",
       "             ('scissor', 3),\n",
       "             ('sister', 45),\n",
       "             ('valentin', 3),\n",
       "             ('sun', 36),\n",
       "             ('fed', 7),\n",
       "             ('kayl', 1),\n",
       "             ('daddi', 7),\n",
       "             ('gerl', 1),\n",
       "             ('unkind', 14),\n",
       "             ('u', 38),\n",
       "             ('basic', 28),\n",
       "             ('fake', 66),\n",
       "             ('realm', 2),\n",
       "             ('scienc', 9),\n",
       "             ('fiction', 10),\n",
       "             ('hate', 359),\n",
       "             ('dad', 44),\n",
       "             ('roof', 5),\n",
       "             ('give', 294),\n",
       "             ('excus', 16),\n",
       "             ('asshol', 4),\n",
       "             ('he', 76),\n",
       "             ('provid', 42),\n",
       "             ('unwelcom', 72),\n",
       "             ('ill', 207),\n",
       "             ('leav', 209),\n",
       "             ('keep', 262),\n",
       "             ('pleasantli', 11),\n",
       "             ('surpris', 107),\n",
       "             ('eas', 18),\n",
       "             ('situat', 112),\n",
       "             ('anymor', 91),\n",
       "             ('vigor', 9),\n",
       "             ('sexual', 31),\n",
       "             ('activ', 46),\n",
       "             ('come', 461),\n",
       "             ('ye', 49),\n",
       "             ('misspelt', 1),\n",
       "             ('cum', 3),\n",
       "             ('part', 197),\n",
       "             ('begin', 107),\n",
       "             ('fall', 77),\n",
       "             ('mom', 88),\n",
       "             ('grace', 35),\n",
       "             ('warm', 43),\n",
       "             ('smile', 76),\n",
       "             ('nurtur', 6),\n",
       "             ('heal', 31),\n",
       "             ('talk', 275),\n",
       "             ('brother', 32),\n",
       "             ('law', 17),\n",
       "             ('extrem', 114),\n",
       "             ('popular', 84),\n",
       "             ('one', 800),\n",
       "             ('stiff', 4),\n",
       "             ('ate', 21),\n",
       "             ('could', 567),\n",
       "             ('gentl', 64),\n",
       "             ('tingl', 6),\n",
       "             ('throughout', 28),\n",
       "             ('almost', 152),\n",
       "             ('place', 201),\n",
       "             ('cellular', 1),\n",
       "             ('level', 51),\n",
       "             ('pressur', 120),\n",
       "             ('young', 64),\n",
       "             ('beauti', 102),\n",
       "             ('thin', 14),\n",
       "             ('depend', 28),\n",
       "             ('trend', 5),\n",
       "             ('girl', 186),\n",
       "             ('rejuven', 5),\n",
       "             ('butt', 10),\n",
       "             ('implant', 1),\n",
       "             ('sever', 52),\n",
       "             ('week', 315),\n",
       "             ('tortur', 103),\n",
       "             ('hallucin', 2),\n",
       "             ('move', 159),\n",
       "             ('figur', 51),\n",
       "             ('sound', 63),\n",
       "             ('vibrat', 9),\n",
       "             ('nearli', 27),\n",
       "             ('finish', 98),\n",
       "             ('detox', 4),\n",
       "             ('amaz', 252),\n",
       "             ('back', 510),\n",
       "             ('former', 10),\n",
       "             ('prayer', 21),\n",
       "             ('other', 188),\n",
       "             ('consid', 64),\n",
       "             ('may', 173),\n",
       "             ('deserv', 45),\n",
       "             ('answer', 59),\n",
       "             ('pain', 195),\n",
       "             ('parent', 95),\n",
       "             ('enrag', 14),\n",
       "             ('violent', 77),\n",
       "             ('roller', 5),\n",
       "             ('coaster', 4),\n",
       "             ('suppos', 108),\n",
       "             ('unpleas', 45),\n",
       "             ('truth', 68),\n",
       "             ('havent', 92),\n",
       "             ('faith', 99),\n",
       "             ('dwell', 7),\n",
       "             ('doubt', 80),\n",
       "             ('uncertainti', 7),\n",
       "             ('bought', 24),\n",
       "             ('clearli', 20),\n",
       "             ('makeup', 14),\n",
       "             ('miser', 91),\n",
       "             ('c', 18),\n",
       "             ('proudest', 1),\n",
       "             ('mum', 22),\n",
       "             ('earth', 26),\n",
       "             ('famili', 237),\n",
       "             ('matter', 103),\n",
       "             ('michel', 2),\n",
       "             ('goe', 51),\n",
       "             ('ballist', 2),\n",
       "             ('necessarili', 6),\n",
       "             ('f', 11),\n",
       "             ('bomb', 11),\n",
       "             ('necessari', 16),\n",
       "             ('print', 12),\n",
       "             ('ovari', 1),\n",
       "             ('ach', 105),\n",
       "             ('chri', 7),\n",
       "             ('mostli', 42),\n",
       "             ('took', 74),\n",
       "             ('unimport', 66),\n",
       "             ('stuff', 101),\n",
       "             ('tire', 139),\n",
       "             ('readi', 68),\n",
       "             ('given', 58),\n",
       "             ('unsuit', 1),\n",
       "             ('imag', 36),\n",
       "             ('blame', 36),\n",
       "             ('result', 66),\n",
       "             ('sit', 164),\n",
       "             ('success', 109),\n",
       "             ('manag', 71),\n",
       "             ('stretch', 16),\n",
       "             ('mxm', 1),\n",
       "             ('canva', 9),\n",
       "             ('achiev', 38),\n",
       "             ('worthwhil', 65),\n",
       "             ('usag', 2),\n",
       "             ('money', 79),\n",
       "             ('futur', 93),\n",
       "             ('brief', 5),\n",
       "             ('nay', 2),\n",
       "             ('import', 152),\n",
       "             ('honor', 72),\n",
       "             ('influenc', 13),\n",
       "             ('talent', 95),\n",
       "             ('fulli', 34),\n",
       "             ('aliv', 22),\n",
       "             ('woman', 79),\n",
       "             ('anger', 59),\n",
       "             ('firey', 1),\n",
       "             ('piec', 63),\n",
       "             ('garbag', 7),\n",
       "             ('leann', 2),\n",
       "             ('thought', 337),\n",
       "             ('miss', 221),\n",
       "             ('drove', 14),\n",
       "             ('dannika', 1),\n",
       "             ('school', 169),\n",
       "             ('rush', 89),\n",
       "             ('greet', 7),\n",
       "             ('hellip', 13),\n",
       "             ('furiou', 22),\n",
       "             ('shooter', 1),\n",
       "             ('happi', 345),\n",
       "             ('excit', 192),\n",
       "             ('sinc', 196),\n",
       "             ('learn', 159),\n",
       "             ('show', 151),\n",
       "             ('hors', 14),\n",
       "             ('trust', 131),\n",
       "             ('relax', 107),\n",
       "             ('quiet', 29),\n",
       "             ('handl', 35),\n",
       "             ('frequent', 10),\n",
       "             ('decemb', 5),\n",
       "             ('done', 156),\n",
       "             ('smug', 53),\n",
       "             ('realiz', 147),\n",
       "             ('everyth', 268),\n",
       "             ('ok', 113),\n",
       "             ('worthless', 69),\n",
       "             ('struggl', 81),\n",
       "             ('lay', 26),\n",
       "             ('bed', 96),\n",
       "             ('dark', 45),\n",
       "             ('terrifi', 95),\n",
       "             ('least', 133),\n",
       "             ('meet', 92),\n",
       "             ('airport', 11),\n",
       "             ('arm', 62),\n",
       "             ('today', 413),\n",
       "             ('mood', 58),\n",
       "             ('strang', 191),\n",
       "             ('guess', 169),\n",
       "             ('pass', 85),\n",
       "             ('involv', 29),\n",
       "             ('car', 57),\n",
       "             ('accid', 13),\n",
       "             ('bring', 76),\n",
       "             ('present', 65),\n",
       "             ('exam', 35),\n",
       "             ('fli', 25),\n",
       "             ('colour', 20),\n",
       "             ('animos', 1),\n",
       "             ('toward', 186),\n",
       "             ('dog', 39),\n",
       "             ('understand', 166),\n",
       "             ('throw', 46),\n",
       "             ('shitti', 86),\n",
       "             ('shit', 49),\n",
       "             ('paper', 37),\n",
       "             ('wryli', 1),\n",
       "             ('banal', 1),\n",
       "             ('comedi', 6),\n",
       "             ('error', 2),\n",
       "             ('vital', 50),\n",
       "             ('hear', 123),\n",
       "             ('owner', 5),\n",
       "             ('victim', 41),\n",
       "             ('associ', 12),\n",
       "             ('attorney', 1),\n",
       "             ('goodby', 6),\n",
       "             ('fam', 1),\n",
       "             ('theyr', 35),\n",
       "             ('cri', 115),\n",
       "             ('heartless', 30),\n",
       "             ('bitch', 31),\n",
       "             ('hey', 16),\n",
       "             ('spend', 104),\n",
       "             ('anoth', 166),\n",
       "             ('countri', 61),\n",
       "             ('wont', 97),\n",
       "             ('lili', 3),\n",
       "             ('opportun', 55),\n",
       "             ('last', 271),\n",
       "             ('short', 50),\n",
       "             ('month', 163),\n",
       "             ('alba', 1),\n",
       "             ('ton', 13),\n",
       "             ('catch', 33),\n",
       "             ('hard', 160),\n",
       "             ('obtain', 8),\n",
       "             ('high', 62),\n",
       "             ('technic', 2),\n",
       "             ('skill', 28),\n",
       "             ('wushu', 2),\n",
       "             ('asham', 98),\n",
       "             ('somehow', 83),\n",
       "             ('motiv', 38),\n",
       "             ('saw', 53),\n",
       "             ('kid', 143),\n",
       "             ('whole', 160),\n",
       "             ('heartedli', 3),\n",
       "             ('despit', 45),\n",
       "             ('tired', 6),\n",
       "             ('spritz', 2),\n",
       "             ('toner', 1),\n",
       "             ('calm', 87),\n",
       "             ('sooth', 7),\n",
       "             ('effort', 54),\n",
       "             ('requir', 19),\n",
       "             ('better', 268),\n",
       "             ('whether', 74),\n",
       "             ('member', 41),\n",
       "             ('colleg', 38),\n",
       "             ('friend', 400),\n",
       "             ('neighbor', 6),\n",
       "             ('street', 31),\n",
       "             ('even', 758),\n",
       "             ('stranger', 19),\n",
       "             ('soon', 76),\n",
       "             ('on', 2),\n",
       "             ('coron', 1),\n",
       "             ('serious', 46),\n",
       "             ('alright', 10),\n",
       "             ('class', 128),\n",
       "             ('combin', 22),\n",
       "             ('unsuccess', 14),\n",
       "             ('horribl', 102),\n",
       "             ('grappl', 3),\n",
       "             ('rare', 30),\n",
       "             ('advanc', 16),\n",
       "             ('stick', 25),\n",
       "             ('rule', 15),\n",
       "             ('onlin', 24),\n",
       "             ('wouldnt', 52),\n",
       "             ('prepar', 40),\n",
       "             ('somebodi', 19),\n",
       "             ('face', 161),\n",
       "             ('group', 58),\n",
       "             ('idea', 123),\n",
       "             ('ugli', 77),\n",
       "             ('inclin', 7),\n",
       "             ('wear', 124),\n",
       "             ('ratti', 2),\n",
       "             ('jean', 6),\n",
       "             ('sweatshirt', 3),\n",
       "             ('dress', 48),\n",
       "             ('pair', 23),\n",
       "             ('heel', 10),\n",
       "             ('hous', 112),\n",
       "             ('boost', 9),\n",
       "             ('esteem', 7),\n",
       "             ('slightli', 116),\n",
       "             ('definit', 83),\n",
       "             ('bother', 119),\n",
       "             ('buy', 82),\n",
       "             ('homesick', 72),\n",
       "             ('yet', 182),\n",
       "             ('danc', 41),\n",
       "             ('workout', 26),\n",
       "             ('fabul', 56),\n",
       "             ('eye', 122),\n",
       "             ('touch', 79),\n",
       "             ('assuredli', 2),\n",
       "             ('return', 51),\n",
       "             ('shall', 19),\n",
       "             ('vain', 74),\n",
       "             ('friday', 26),\n",
       "             ('aw', 92),\n",
       "             ('cramp', 13),\n",
       "             ('honour', 58),\n",
       "             ('call', 199),\n",
       "             ('brotherhood', 2),\n",
       "             ('begun', 13),\n",
       "             ('apprehens', 75),\n",
       "             ('thick', 10),\n",
       "             ('black', 33),\n",
       "             ('rain', 27),\n",
       "             ('cloud', 11),\n",
       "             ('storm', 14),\n",
       "             ('sky', 22),\n",
       "             ('town', 21),\n",
       "             ('state', 59),\n",
       "             ('reason', 164),\n",
       "             ('fear', 131),\n",
       "             ('unsaf', 4),\n",
       "             ('shaken', 72),\n",
       "             ('tsa', 2),\n",
       "             ('quit', 318),\n",
       "             ('pull', 62),\n",
       "             ('croissant', 2),\n",
       "             ('lunch', 16),\n",
       "             ('awkward', 95),\n",
       "             ('overcompens', 1),\n",
       "             ('final', 129),\n",
       "             ('companion', 8),\n",
       "             ('especi', 148),\n",
       "             ('lone', 112),\n",
       "             ('disappoint', 101),\n",
       "             ('blog', 233),\n",
       "             ('img', 34),\n",
       "             ('src', 42),\n",
       "             ('http', 249),\n",
       "             ('eager', 65),\n",
       "             ('quilt', 12),\n",
       "             ('horni', 61),\n",
       "             ('poem', 11),\n",
       "             ('uncomfort', 84),\n",
       "             ('sens', 134),\n",
       "             ('land', 15),\n",
       "             ('rais', 23),\n",
       "             ('son', 45),\n",
       "             ('father', 48),\n",
       "             ('ancestr', 2),\n",
       "             ('shower', 21),\n",
       "             ('question', 91),\n",
       "             ('fantast', 56),\n",
       "             ('confid', 129),\n",
       "             ('movement', 17),\n",
       "             ('effortlessli', 1),\n",
       "             ('energet', 73),\n",
       "             ('bounci', 26),\n",
       "             ('gym', 19),\n",
       "             ('outsid', 68),\n",
       "             ('pram', 1),\n",
       "             ('long', 277),\n",
       "             ('walk', 191),\n",
       "             ('often', 182),\n",
       "             ('three', 64),\n",
       "             ('strong', 115),\n",
       "             ('burst', 12),\n",
       "             ('tear', 57),\n",
       "             ('devast', 81),\n",
       "             ('releas', 26),\n",
       "             ('seem', 206),\n",
       "             ('rich', 79),\n",
       "             ('space', 50),\n",
       "             ('dump', 13),\n",
       "             ('pumpkin', 2),\n",
       "             ('spice', 6),\n",
       "             ('latt', 1),\n",
       "             ('coffe', 23),\n",
       "             ('mayb', 147),\n",
       "             ('badli', 28),\n",
       "             ('she', 66),\n",
       "             ('hyperchondria', 1),\n",
       "             ('exagger', 4),\n",
       "             ('habit', 16),\n",
       "             ('openli', 4),\n",
       "             ('clench', 3),\n",
       "             ('assur', 73),\n",
       "             ('right', 456),\n",
       "             ('name', 69),\n",
       "             ('utterli', 38),\n",
       "             ('affirm', 8),\n",
       "             ('perhap', 47),\n",
       "             ('offic', 36),\n",
       "             ('nice', 82),\n",
       "             ('hair', 75),\n",
       "             ('rebelli', 54),\n",
       "             ('celebr', 38),\n",
       "             ('eid', 2),\n",
       "             ('wash', 20),\n",
       "             ('sleep', 171),\n",
       "             ('depriv', 58),\n",
       "             ('night', 188),\n",
       "             ('bloge', 1),\n",
       "             ('amp', 109),\n",
       "             ('cat', 25),\n",
       "             ('lucki', 89),\n",
       "             ('woke', 96),\n",
       "             ('sick', 78),\n",
       "             ('witch', 2),\n",
       "             ('hunt', 9),\n",
       "             ('repress', 26),\n",
       "             ('memori', 54),\n",
       "             ('therapi', 12),\n",
       "             ('disgust', 81),\n",
       "             ('race', 57),\n",
       "             ('nation', 14),\n",
       "             ('laugh', 54),\n",
       "             ('bitterli', 2),\n",
       "             ('knew', 91),\n",
       "             ('forev', 24),\n",
       "             ('mellow', 65),\n",
       "             ('soft', 22),\n",
       "             ('easi', 49),\n",
       "             ('told', 125),\n",
       "             ('indecis', 34),\n",
       "             ('genr', 10),\n",
       "             ('disservic', 3),\n",
       "             ('resolv', 66),\n",
       "             ('artif', 1),\n",
       "             ('artist', 83),\n",
       "             ('manitz', 1),\n",
       "             ('draw', 30),\n",
       "             ('circl', 16),\n",
       "             ('dot', 4),\n",
       "             ('bigger', 14),\n",
       "             ('line', 52),\n",
       "             ('accent', 3),\n",
       "             ('mark', 28),\n",
       "             ('spanish', 5),\n",
       "             ('piss', 81),\n",
       "             ('brazil', 2),\n",
       "             ('bu', 20),\n",
       "             ('steep', 3),\n",
       "             ('mountain', 13),\n",
       "             ('middl', 28),\n",
       "             ('big', 99),\n",
       "             ('wonder', 252),\n",
       "             ('whimper', 1),\n",
       "             ('unlov', 55),\n",
       "             ('uncar', 6),\n",
       "             ('certainli', 38),\n",
       "             ('what', 32),\n",
       "             ('curiou', 77),\n",
       "             ('youd', 11),\n",
       "             ('watch', 171),\n",
       "             ('sorri', 118),\n",
       "             ('humor', 18),\n",
       "             ('foot', 24),\n",
       "             ('door', 43),\n",
       "             ('world', 251),\n",
       "             ('trail', 11),\n",
       "             ('fell', 13),\n",
       "             ('whatev', 67),\n",
       "             ('directli', 7),\n",
       "             ('jealou', 73),\n",
       "             ('insecur', 82),\n",
       "             ('worthi', 13),\n",
       "             ('sweet', 175),\n",
       "             ('holiday', 50),\n",
       "             ('dash', 4),\n",
       "             ('emili', 5),\n",
       "             ('dickinson', 1),\n",
       "             ('exampl', 18),\n",
       "             ('instead', 88),\n",
       "             ('colon', 2),\n",
       "             ('semi', 4),\n",
       "             ('enhanc', 2),\n",
       "             ('enjamb', 1),\n",
       "             ('sonnet', 1),\n",
       "             ('fatter', 1),\n",
       "             ('remain', 33),\n",
       "             ('control', 94),\n",
       "             ('peanut', 2),\n",
       "             ('butter', 5),\n",
       "             ('bread', 9),\n",
       "             ('imposs', 12),\n",
       "             ('third', 15),\n",
       "             ('hell', 39),\n",
       "             ('needi', 58),\n",
       "             ('neglect', 40),\n",
       "             ('claim', 7),\n",
       "             ('redeem', 2),\n",
       "             ('beat', 33),\n",
       "             ('head', 139),\n",
       "             ('wall', 38),\n",
       "             ('either', 75),\n",
       "             ('intimid', 70),\n",
       "             ('concept', 9),\n",
       "             ('lit', 7),\n",
       "             ('groggi', 70),\n",
       "             ('routin', 18),\n",
       "             ('view', 53),\n",
       "             ('isnt', 55),\n",
       "             ('that', 118),\n",
       "             ('fine', 105),\n",
       "             ('hold', 80),\n",
       "             ('shock', 70),\n",
       "             ('awe', 7),\n",
       "             ('rumour', 1),\n",
       "             ('st', 12),\n",
       "             ('failur', 20),\n",
       "             ('appreci', 114),\n",
       "             ('arent', 24),\n",
       "             ('anywher', 20),\n",
       "             ('natur', 60),\n",
       "             ('relationship', 102),\n",
       "             ('chang', 161),\n",
       "             ('distract', 79),\n",
       "             ('regularli', 10),\n",
       "             ('music', 84),\n",
       "             ('invigor', 52),\n",
       "             ('afterward', 28),\n",
       "             ('tend', 41),\n",
       "             ('practic', 43),\n",
       "             ('shut', 24),\n",
       "             ('w', 13),\n",
       "             ('youtub', 8),\n",
       "             ('specif', 28),\n",
       "             ('tango', 3),\n",
       "             ('shi', 73),\n",
       "             ('mak', 1),\n",
       "             ('opposit', 13),\n",
       "             ('far', 114),\n",
       "             ('pic', 16),\n",
       "             ('lol', 27),\n",
       "             ('weird', 167),\n",
       "             ('slept', 9),\n",
       "             ('okay', 32),\n",
       "             ('earlier', 29),\n",
       "             ('here', 6),\n",
       "             ('coop', 5),\n",
       "             ('restless', 60),\n",
       "             ('weight', 66),\n",
       "             ('tini', 18),\n",
       "             ('unabl', 28),\n",
       "             ('presenc', 38),\n",
       "             ('fan', 48),\n",
       "             ('current', 51),\n",
       "             ('presid', 7),\n",
       "             ('conserv', 9),\n",
       "             ('enclos', 2),\n",
       "             ('vers', 7),\n",
       "             ('weigh', 9),\n",
       "             ('odd', 22),\n",
       "             ('complac', 34),\n",
       "             ('vulner', 83),\n",
       "             ('punish', 84),\n",
       "             ('stupid', 137),\n",
       "             ('chastis', 1),\n",
       "             ('behav', 13),\n",
       "             ('stay', 118),\n",
       "             ('simpli', 70),\n",
       "             ('cut', 50),\n",
       "             ('everyon', 160),\n",
       "             ('comfort', 149),\n",
       "             ('solitud', 1),\n",
       "             ('medit', 12),\n",
       "             ('project', 64),\n",
       "             ('nervou', 113),\n",
       "             ('act', 73),\n",
       "             ('bird', 19),\n",
       "             ('air', 42),\n",
       "             ('carefre', 54),\n",
       "             ('manner', 14),\n",
       "             ('revis', 3),\n",
       "             ('repli', 18),\n",
       "             ('appropri', 7),\n",
       "             ('receiv', 55),\n",
       "             ('offend', 87),\n",
       "             ('die', 64),\n",
       "             ('irrevoc', 1),\n",
       "             ('gone', 64),\n",
       "             ('alex', 6),\n",
       "             ('matt', 5),\n",
       "             ('regret', 84),\n",
       "             ('visit', 47),\n",
       "             ('educ', 33),\n",
       "             ('educationg', 1),\n",
       "             ('mama', 8),\n",
       "             ('papa', 1),\n",
       "             ('key', 22),\n",
       "             ('hostil', 36),\n",
       "             ('bore', 93),\n",
       "             ('sew', 12),\n",
       "             ('noth', 184),\n",
       "             ('fabric', 16),\n",
       "             ('origin', 17),\n",
       "             ('fragranc', 4),\n",
       "             ('freshen', 1),\n",
       "             ('lightli', 8),\n",
       "             ('scent', 17),\n",
       "             ('underwear', 2),\n",
       "             ('drawer', 3),\n",
       "             ('gorgeous', 2),\n",
       "             ('glamor', 39),\n",
       "             ('girli', 4),\n",
       "             ('apart', 39),\n",
       "             ('push', 49),\n",
       "             ('succeed', 15),\n",
       "             ('wound', 17),\n",
       "             ('process', 40),\n",
       "             ('underway', 2),\n",
       "             ('sometim', 256),\n",
       "             ('ad', 40),\n",
       "             ('antagon', 1),\n",
       "             ('misunderstand', 2),\n",
       "             ('reluct', 68),\n",
       "             ('wholeheartedli', 3),\n",
       "             ('tradit', 12),\n",
       "             ('armistic', 1),\n",
       "             ('remembr', 3),\n",
       "             ('leg', 46),\n",
       "             ('mile', 32),\n",
       "             ('unfair', 8),\n",
       "             ('reaction', 29),\n",
       "             ('bless', 175),\n",
       "             ('abus', 64),\n",
       "             ...])"
      ]
     },
     "execution_count": 11,
     "metadata": {},
     "output_type": "execute_result"
    }
   ],
   "source": [
    "tokenizer.word_counts  \n"
   ]
  },
  {
   "cell_type": "code",
   "execution_count": 12,
   "id": "3b7d966f-995b-4f17-8349-a2aa1800a44d",
   "metadata": {},
   "outputs": [],
   "source": [
    "tokenized_data = tokenizer.texts_to_sequences(cleaned_data)"
   ]
  },
  {
   "cell_type": "code",
   "execution_count": 13,
   "id": "a8f38da3-a83c-4f74-a070-b3c9ef28629d",
   "metadata": {},
   "outputs": [
    {
     "data": {
      "text/plain": [
       "20000"
      ]
     },
     "execution_count": 13,
     "metadata": {},
     "output_type": "execute_result"
    }
   ],
   "source": [
    "\n",
    "len(tokenized_data)"
   ]
  },
  {
   "cell_type": "code",
   "execution_count": 14,
   "id": "e8d076e0-94be-4aa6-81ea-1621f925ed85",
   "metadata": {},
   "outputs": [
    {
     "data": {
      "text/plain": [
       "'didnt feel humili'"
      ]
     },
     "execution_count": 14,
     "metadata": {},
     "output_type": "execute_result"
    }
   ],
   "source": [
    "cleaned_data[0]"
   ]
  },
  {
   "cell_type": "code",
   "execution_count": 15,
   "id": "adb11954-8cb6-4b7f-bbf5-d5d1bcf45a00",
   "metadata": {},
   "outputs": [
    {
     "data": {
      "text/plain": [
       "[61, 2, 522]"
      ]
     },
     "execution_count": 15,
     "metadata": {},
     "output_type": "execute_result"
    }
   ],
   "source": [
    "tokenized_data[0]"
   ]
  },
  {
   "cell_type": "code",
   "execution_count": 16,
   "id": "51d55120-be07-44f8-8b34-8d1e206f2587",
   "metadata": {},
   "outputs": [
    {
     "name": "stdout",
     "output_type": "stream",
     "text": [
      "Your maximum length is :  35\n"
     ]
    }
   ],
   "source": [
    "len_of_message = []\n",
    "for i in range(len(tokenized_data)):\n",
    "    len_of_message.append(len(tokenized_data[i]))\n",
    "print(\"Your maximum length is : \",max(len_of_message))\n"
   ]
  },
  {
   "cell_type": "code",
   "execution_count": 17,
   "id": "7e750dab-1f12-4e21-a904-7107eddf0fd9",
   "metadata": {},
   "outputs": [
    {
     "name": "stdout",
     "output_type": "stream",
     "text": [
      "Your maximum length is :  35\n"
     ]
    }
   ],
   "source": [
    "print(\"Your maximum length is : \",max(list(map(len,tokenized_data))))"
   ]
  },
  {
   "cell_type": "code",
   "execution_count": 18,
   "id": "101894b6-23e3-408f-bed6-de06fe81dc51",
   "metadata": {},
   "outputs": [],
   "source": [
    "sequences = pad_sequences(tokenized_data,maxlen=35,padding='post')"
   ]
  },
  {
   "cell_type": "code",
   "execution_count": 19,
   "id": "9d880b28-6e81-46ce-ac8b-9bcbce9296a1",
   "metadata": {},
   "outputs": [
    {
     "data": {
      "text/plain": [
       "array([[  61,    2,  522, ...,    0,    0,    0],\n",
       "       [  10,    2,  419, ...,    0,    0,    0],\n",
       "       [   4, 1230,  431, ...,    0,    0,    0],\n",
       "       ...,\n",
       "       [   2,  194,  157, ...,    0,    0,    0],\n",
       "       [ 328,    2,  175, ...,    0,    0,    0],\n",
       "       [   2,    3,  916, ...,    0,    0,    0]])"
      ]
     },
     "execution_count": 19,
     "metadata": {},
     "output_type": "execute_result"
    }
   ],
   "source": [
    "sequences"
   ]
  },
  {
   "cell_type": "code",
   "execution_count": 20,
   "id": "2c9998f8-429c-4f04-a282-45d637390e66",
   "metadata": {},
   "outputs": [
    {
     "data": {
      "text/plain": [
       "{'sadness': 0, 'anger': 1, 'love': 2, 'surprise': 3, 'fear': 4, 'joy': 5}"
      ]
     },
     "execution_count": 20,
     "metadata": {},
     "output_type": "execute_result"
    }
   ],
   "source": [
    "labels=[]\n",
    "for item in y:\n",
    "        if item not in labels:\n",
    "            labels.append(item)\n",
    "label_dict = {label:i for i , label in enumerate(labels)}\n",
    "label_dict"
   ]
  },
  {
   "cell_type": "code",
   "execution_count": 21,
   "id": "2bc89198-1522-4276-b585-45ec2535604e",
   "metadata": {},
   "outputs": [],
   "source": [
    "from sklearn.preprocessing import LabelEncoder ,OneHotEncoder"
   ]
  },
  {
   "cell_type": "code",
   "execution_count": 22,
   "id": "00853470-a3bb-468b-8b52-226851d1f400",
   "metadata": {},
   "outputs": [],
   "source": [
    "label_encoder = LabelEncoder()\n",
    "Y = label_encoder.fit_transform(y)"
   ]
  },
  {
   "cell_type": "code",
   "execution_count": 23,
   "id": "7337468c-ab10-46de-b3ee-99648958a253",
   "metadata": {},
   "outputs": [
    {
     "data": {
      "text/plain": [
       "array([4, 4, 0, ..., 2, 2, 2], dtype=int64)"
      ]
     },
     "execution_count": 23,
     "metadata": {},
     "output_type": "execute_result"
    }
   ],
   "source": [
    "Y"
   ]
  },
  {
   "cell_type": "code",
   "execution_count": 24,
   "id": "febac87b-c7bb-4d33-89c6-4164f9d78070",
   "metadata": {},
   "outputs": [
    {
     "data": {
      "text/plain": [
       "array(['anger', 'fear', 'joy', 'love', 'sadness', 'surprise'], dtype='<U8')"
      ]
     },
     "execution_count": 24,
     "metadata": {},
     "output_type": "execute_result"
    }
   ],
   "source": [
    "label_encoder.classes_"
   ]
  },
  {
   "cell_type": "code",
   "execution_count": 25,
   "id": "ba119a85-7baf-4723-a207-2e62b91e1ea7",
   "metadata": {},
   "outputs": [
    {
     "data": {
      "text/plain": [
       "['./models/label_encoder.lb']"
      ]
     },
     "execution_count": 25,
     "metadata": {},
     "output_type": "execute_result"
    }
   ],
   "source": [
    "joblib.dump(label_encoder,'./models/label_encoder.lb')"
   ]
  },
  {
   "cell_type": "code",
   "execution_count": 26,
   "id": "7ca95d1a-4868-4bca-9050-ca15b6b410e3",
   "metadata": {},
   "outputs": [
    {
     "data": {
      "text/plain": [
       "array([4, 4, 0, ..., 2, 2, 2], dtype=int64)"
      ]
     },
     "execution_count": 26,
     "metadata": {},
     "output_type": "execute_result"
    }
   ],
   "source": [
    "sequences    # <====  X DATA  cleaned data \n",
    "Y            # <====  Y DATA label "
   ]
  },
  {
   "cell_type": "code",
   "execution_count": 27,
   "id": "f486d8ff-00b5-43fc-9404-e52b6d526fbf",
   "metadata": {},
   "outputs": [],
   "source": [
    "from sklearn.model_selection import train_test_split\n",
    "x_train,x_test,y_train,y_test = train_test_split(sequences,Y,test_size=0.15)"
   ]
  },
  {
   "cell_type": "code",
   "execution_count": 28,
   "id": "1e1f5278-9d59-47a7-9deb-3710eae1f1cd",
   "metadata": {},
   "outputs": [],
   "source": [
    "## Model training\n",
    "## Model define  \n",
    "# ANN , CNN , RNN  \n",
    "### logistic regression ,\n",
    "### DTC , RDC , \n",
    "## machine learning algorithm   | ANN   | RNN "
   ]
  },
  {
   "cell_type": "code",
   "execution_count": 29,
   "id": "61a2f16e-10c3-4a22-8b40-73d34c6b3317",
   "metadata": {},
   "outputs": [
    {
     "name": "stderr",
     "output_type": "stream",
     "text": [
      "C:\\Users\\tumha\\AppData\\Local\\Programs\\Python\\Python312\\Lib\\site-packages\\keras\\src\\layers\\rnn\\rnn.py:204: UserWarning: Do not pass an `input_shape`/`input_dim` argument to a layer. When using Sequential models, prefer using an `Input(shape)` object as the first layer in the model instead.\n",
      "  super().__init__(**kwargs)\n"
     ]
    }
   ],
   "source": [
    "from tensorflow.keras.models import Sequential \n",
    "from tensorflow.keras.layers import LSTM , Dense\n",
    "\n",
    "model = Sequential([\n",
    "    LSTM(units=128, input_shape=(35, 1), return_sequences=True),\n",
    "    LSTM(units=64),\n",
    "    Dense(units=6, activation='softmax')\n",
    "])\n",
    "model.compile(optimizer='adam', loss='sparse_categorical_crossentropy', metrics=['accuracy'])"
   ]
  },
  {
   "cell_type": "code",
   "execution_count": 30,
   "id": "44667fa2-dcba-4663-a12f-0bd8d09c06f2",
   "metadata": {},
   "outputs": [
    {
     "name": "stdout",
     "output_type": "stream",
     "text": [
      "Epoch 1/5\n",
      "\u001b[1m532/532\u001b[0m \u001b[32m━━━━━━━━━━━━━━━━━━━━\u001b[0m\u001b[37m\u001b[0m \u001b[1m70s\u001b[0m 120ms/step - accuracy: 0.3227 - loss: 1.6041 - val_accuracy: 0.3417 - val_loss: 1.5562\n",
      "Epoch 2/5\n",
      "\u001b[1m532/532\u001b[0m \u001b[32m━━━━━━━━━━━━━━━━━━━━\u001b[0m\u001b[37m\u001b[0m \u001b[1m57s\u001b[0m 107ms/step - accuracy: 0.3335 - loss: 1.5803 - val_accuracy: 0.3393 - val_loss: 1.5578\n",
      "Epoch 3/5\n",
      "\u001b[1m532/532\u001b[0m \u001b[32m━━━━━━━━━━━━━━━━━━━━\u001b[0m\u001b[37m\u001b[0m \u001b[1m60s\u001b[0m 112ms/step - accuracy: 0.3456 - loss: 1.5739 - val_accuracy: 0.3413 - val_loss: 1.5581\n",
      "Epoch 4/5\n",
      "\u001b[1m532/532\u001b[0m \u001b[32m━━━━━━━━━━━━━━━━━━━━\u001b[0m\u001b[37m\u001b[0m \u001b[1m59s\u001b[0m 111ms/step - accuracy: 0.3380 - loss: 1.5762 - val_accuracy: 0.3433 - val_loss: 1.5573\n",
      "Epoch 5/5\n",
      "\u001b[1m532/532\u001b[0m \u001b[32m━━━━━━━━━━━━━━━━━━━━\u001b[0m\u001b[37m\u001b[0m \u001b[1m61s\u001b[0m 114ms/step - accuracy: 0.3447 - loss: 1.5713 - val_accuracy: 0.3433 - val_loss: 1.5614\n"
     ]
    }
   ],
   "source": [
    "history = model.fit(x_train,y_train,epochs=5,validation_data=(x_test,y_test))"
   ]
  },
  {
   "cell_type": "code",
   "execution_count": 31,
   "id": "40861ad4-7a93-4347-aa90-f5cd8e06355c",
   "metadata": {},
   "outputs": [
    {
     "name": "stdout",
     "output_type": "stream",
     "text": [
      "\u001b[1m94/94\u001b[0m \u001b[32m━━━━━━━━━━━━━━━━━━━━\u001b[0m\u001b[37m\u001b[0m \u001b[1m4s\u001b[0m 36ms/step\n"
     ]
    }
   ],
   "source": [
    "prediction = model.predict(x_test)"
   ]
  },
  {
   "cell_type": "code",
   "execution_count": 32,
   "id": "1c840aac-598c-4325-ab80-4d68ebb3bc50",
   "metadata": {},
   "outputs": [
    {
     "data": {
      "text/plain": [
       "array([ 305,  305,  210, 2325,  305,   21], dtype=int64)"
      ]
     },
     "execution_count": 32,
     "metadata": {},
     "output_type": "execute_result"
    }
   ],
   "source": [
    "import numpy as np \n",
    "np.argmax(prediction,axis=0)\n"
   ]
  },
  {
   "cell_type": "code",
   "execution_count": 33,
   "id": "4cd935ad-d7b6-4eef-93bb-44253bd632c1",
   "metadata": {},
   "outputs": [],
   "source": [
    "prediction = np.argmax(prediction,axis=1)"
   ]
  },
  {
   "cell_type": "code",
   "execution_count": 34,
   "id": "3bdd2315-a04d-4f68-898e-f5b1c9951d9a",
   "metadata": {},
   "outputs": [
    {
     "data": {
      "text/plain": [
       "array([2, 2, 2, ..., 2, 2, 2], dtype=int64)"
      ]
     },
     "execution_count": 34,
     "metadata": {},
     "output_type": "execute_result"
    }
   ],
   "source": [
    "prediction"
   ]
  },
  {
   "cell_type": "code",
   "execution_count": 35,
   "id": "3668e232-ba84-42f4-864e-5ecd00625faa",
   "metadata": {},
   "outputs": [
    {
     "data": {
      "text/plain": [
       "array([3, 3, 2, ..., 1, 2, 4], dtype=int64)"
      ]
     },
     "execution_count": 35,
     "metadata": {},
     "output_type": "execute_result"
    }
   ],
   "source": [
    "y_test"
   ]
  },
  {
   "cell_type": "code",
   "execution_count": 36,
   "id": "fa789363-eb51-4ba2-abd9-2be274c8bbc0",
   "metadata": {},
   "outputs": [],
   "source": [
    "import pandas as pd \n",
    "df = pd.DataFrame({'actual':y_test,'prediction':prediction})"
   ]
  },
  {
   "cell_type": "code",
   "execution_count": 37,
   "id": "af164e50-8bb3-414c-80b9-55348ed0faea",
   "metadata": {},
   "outputs": [
    {
     "data": {
      "text/plain": [
       "{0: 'sadness', 1: 'anger', 2: 'love', 3: 'surprise', 4: 'fear', 5: 'joy'}"
      ]
     },
     "execution_count": 37,
     "metadata": {},
     "output_type": "execute_result"
    }
   ],
   "source": [
    "label_dictionary = {value:key for key , value in label_dict.items()}\n",
    "label_dictionary"
   ]
  },
  {
   "cell_type": "code",
   "execution_count": 38,
   "id": "6dd93d27-8eb5-44d2-bc6f-b7829e5be5ac",
   "metadata": {},
   "outputs": [],
   "source": [
    "df['actual'] = df['actual'].map(label_dictionary)\n",
    "df['prediction'] = df['prediction'].map(label_dictionary)"
   ]
  },
  {
   "cell_type": "code",
   "execution_count": 39,
   "id": "f0e05459-5a21-43f6-b82b-2310a6eef5cc",
   "metadata": {},
   "outputs": [
    {
     "data": {
      "text/html": [
       "<div>\n",
       "<style scoped>\n",
       "    .dataframe tbody tr th:only-of-type {\n",
       "        vertical-align: middle;\n",
       "    }\n",
       "\n",
       "    .dataframe tbody tr th {\n",
       "        vertical-align: top;\n",
       "    }\n",
       "\n",
       "    .dataframe thead th {\n",
       "        text-align: right;\n",
       "    }\n",
       "</style>\n",
       "<table border=\"1\" class=\"dataframe\">\n",
       "  <thead>\n",
       "    <tr style=\"text-align: right;\">\n",
       "      <th></th>\n",
       "      <th>actual</th>\n",
       "      <th>prediction</th>\n",
       "    </tr>\n",
       "  </thead>\n",
       "  <tbody>\n",
       "    <tr>\n",
       "      <th>0</th>\n",
       "      <td>surprise</td>\n",
       "      <td>love</td>\n",
       "    </tr>\n",
       "    <tr>\n",
       "      <th>1</th>\n",
       "      <td>surprise</td>\n",
       "      <td>love</td>\n",
       "    </tr>\n",
       "    <tr>\n",
       "      <th>2</th>\n",
       "      <td>love</td>\n",
       "      <td>love</td>\n",
       "    </tr>\n",
       "    <tr>\n",
       "      <th>3</th>\n",
       "      <td>fear</td>\n",
       "      <td>love</td>\n",
       "    </tr>\n",
       "    <tr>\n",
       "      <th>4</th>\n",
       "      <td>love</td>\n",
       "      <td>love</td>\n",
       "    </tr>\n",
       "    <tr>\n",
       "      <th>5</th>\n",
       "      <td>love</td>\n",
       "      <td>love</td>\n",
       "    </tr>\n",
       "    <tr>\n",
       "      <th>6</th>\n",
       "      <td>love</td>\n",
       "      <td>love</td>\n",
       "    </tr>\n",
       "    <tr>\n",
       "      <th>7</th>\n",
       "      <td>fear</td>\n",
       "      <td>love</td>\n",
       "    </tr>\n",
       "    <tr>\n",
       "      <th>8</th>\n",
       "      <td>fear</td>\n",
       "      <td>love</td>\n",
       "    </tr>\n",
       "    <tr>\n",
       "      <th>9</th>\n",
       "      <td>surprise</td>\n",
       "      <td>love</td>\n",
       "    </tr>\n",
       "    <tr>\n",
       "      <th>10</th>\n",
       "      <td>fear</td>\n",
       "      <td>love</td>\n",
       "    </tr>\n",
       "    <tr>\n",
       "      <th>11</th>\n",
       "      <td>love</td>\n",
       "      <td>love</td>\n",
       "    </tr>\n",
       "    <tr>\n",
       "      <th>12</th>\n",
       "      <td>sadness</td>\n",
       "      <td>love</td>\n",
       "    </tr>\n",
       "    <tr>\n",
       "      <th>13</th>\n",
       "      <td>love</td>\n",
       "      <td>love</td>\n",
       "    </tr>\n",
       "    <tr>\n",
       "      <th>14</th>\n",
       "      <td>surprise</td>\n",
       "      <td>love</td>\n",
       "    </tr>\n",
       "    <tr>\n",
       "      <th>15</th>\n",
       "      <td>love</td>\n",
       "      <td>love</td>\n",
       "    </tr>\n",
       "    <tr>\n",
       "      <th>16</th>\n",
       "      <td>love</td>\n",
       "      <td>love</td>\n",
       "    </tr>\n",
       "    <tr>\n",
       "      <th>17</th>\n",
       "      <td>fear</td>\n",
       "      <td>love</td>\n",
       "    </tr>\n",
       "    <tr>\n",
       "      <th>18</th>\n",
       "      <td>joy</td>\n",
       "      <td>love</td>\n",
       "    </tr>\n",
       "    <tr>\n",
       "      <th>19</th>\n",
       "      <td>joy</td>\n",
       "      <td>love</td>\n",
       "    </tr>\n",
       "    <tr>\n",
       "      <th>20</th>\n",
       "      <td>fear</td>\n",
       "      <td>love</td>\n",
       "    </tr>\n",
       "    <tr>\n",
       "      <th>21</th>\n",
       "      <td>surprise</td>\n",
       "      <td>love</td>\n",
       "    </tr>\n",
       "    <tr>\n",
       "      <th>22</th>\n",
       "      <td>joy</td>\n",
       "      <td>love</td>\n",
       "    </tr>\n",
       "    <tr>\n",
       "      <th>23</th>\n",
       "      <td>love</td>\n",
       "      <td>love</td>\n",
       "    </tr>\n",
       "    <tr>\n",
       "      <th>24</th>\n",
       "      <td>sadness</td>\n",
       "      <td>love</td>\n",
       "    </tr>\n",
       "    <tr>\n",
       "      <th>25</th>\n",
       "      <td>love</td>\n",
       "      <td>love</td>\n",
       "    </tr>\n",
       "    <tr>\n",
       "      <th>26</th>\n",
       "      <td>sadness</td>\n",
       "      <td>love</td>\n",
       "    </tr>\n",
       "    <tr>\n",
       "      <th>27</th>\n",
       "      <td>love</td>\n",
       "      <td>love</td>\n",
       "    </tr>\n",
       "    <tr>\n",
       "      <th>28</th>\n",
       "      <td>love</td>\n",
       "      <td>love</td>\n",
       "    </tr>\n",
       "    <tr>\n",
       "      <th>29</th>\n",
       "      <td>sadness</td>\n",
       "      <td>love</td>\n",
       "    </tr>\n",
       "    <tr>\n",
       "      <th>30</th>\n",
       "      <td>love</td>\n",
       "      <td>love</td>\n",
       "    </tr>\n",
       "    <tr>\n",
       "      <th>31</th>\n",
       "      <td>love</td>\n",
       "      <td>love</td>\n",
       "    </tr>\n",
       "    <tr>\n",
       "      <th>32</th>\n",
       "      <td>love</td>\n",
       "      <td>love</td>\n",
       "    </tr>\n",
       "    <tr>\n",
       "      <th>33</th>\n",
       "      <td>love</td>\n",
       "      <td>love</td>\n",
       "    </tr>\n",
       "    <tr>\n",
       "      <th>34</th>\n",
       "      <td>love</td>\n",
       "      <td>love</td>\n",
       "    </tr>\n",
       "    <tr>\n",
       "      <th>35</th>\n",
       "      <td>love</td>\n",
       "      <td>love</td>\n",
       "    </tr>\n",
       "    <tr>\n",
       "      <th>36</th>\n",
       "      <td>fear</td>\n",
       "      <td>love</td>\n",
       "    </tr>\n",
       "    <tr>\n",
       "      <th>37</th>\n",
       "      <td>surprise</td>\n",
       "      <td>love</td>\n",
       "    </tr>\n",
       "    <tr>\n",
       "      <th>38</th>\n",
       "      <td>love</td>\n",
       "      <td>love</td>\n",
       "    </tr>\n",
       "    <tr>\n",
       "      <th>39</th>\n",
       "      <td>anger</td>\n",
       "      <td>love</td>\n",
       "    </tr>\n",
       "  </tbody>\n",
       "</table>\n",
       "</div>"
      ],
      "text/plain": [
       "      actual prediction\n",
       "0   surprise       love\n",
       "1   surprise       love\n",
       "2       love       love\n",
       "3       fear       love\n",
       "4       love       love\n",
       "5       love       love\n",
       "6       love       love\n",
       "7       fear       love\n",
       "8       fear       love\n",
       "9   surprise       love\n",
       "10      fear       love\n",
       "11      love       love\n",
       "12   sadness       love\n",
       "13      love       love\n",
       "14  surprise       love\n",
       "15      love       love\n",
       "16      love       love\n",
       "17      fear       love\n",
       "18       joy       love\n",
       "19       joy       love\n",
       "20      fear       love\n",
       "21  surprise       love\n",
       "22       joy       love\n",
       "23      love       love\n",
       "24   sadness       love\n",
       "25      love       love\n",
       "26   sadness       love\n",
       "27      love       love\n",
       "28      love       love\n",
       "29   sadness       love\n",
       "30      love       love\n",
       "31      love       love\n",
       "32      love       love\n",
       "33      love       love\n",
       "34      love       love\n",
       "35      love       love\n",
       "36      fear       love\n",
       "37  surprise       love\n",
       "38      love       love\n",
       "39     anger       love"
      ]
     },
     "execution_count": 39,
     "metadata": {},
     "output_type": "execute_result"
    }
   ],
   "source": [
    "df.head(40)"
   ]
  },
  {
   "cell_type": "code",
   "execution_count": 40,
   "id": "6dc1307d-7c7c-4a72-a4f5-f4f52a6461ee",
   "metadata": {},
   "outputs": [
    {
     "name": "stderr",
     "output_type": "stream",
     "text": [
      "C:\\Users\\tumha\\AppData\\Local\\Programs\\Python\\Python312\\Lib\\site-packages\\keras\\src\\layers\\rnn\\rnn.py:204: UserWarning: Do not pass an `input_shape`/`input_dim` argument to a layer. When using Sequential models, prefer using an `Input(shape)` object as the first layer in the model instead.\n",
      "  super().__init__(**kwargs)\n"
     ]
    },
    {
     "data": {
      "text/html": [
       "<pre style=\"white-space:pre;overflow-x:auto;line-height:normal;font-family:Menlo,'DejaVu Sans Mono',consolas,'Courier New',monospace\"><span style=\"font-weight: bold\">Model: \"sequential_1\"</span>\n",
       "</pre>\n"
      ],
      "text/plain": [
       "\u001b[1mModel: \"sequential_1\"\u001b[0m\n"
      ]
     },
     "metadata": {},
     "output_type": "display_data"
    },
    {
     "data": {
      "text/html": [
       "<pre style=\"white-space:pre;overflow-x:auto;line-height:normal;font-family:Menlo,'DejaVu Sans Mono',consolas,'Courier New',monospace\">┏━━━━━━━━━━━━━━━━━━━━━━━━━━━━━━━━━━━━━━┳━━━━━━━━━━━━━━━━━━━━━━━━━━━━━┳━━━━━━━━━━━━━━━━━┓\n",
       "┃<span style=\"font-weight: bold\"> Layer (type)                         </span>┃<span style=\"font-weight: bold\"> Output Shape                </span>┃<span style=\"font-weight: bold\">         Param # </span>┃\n",
       "┡━━━━━━━━━━━━━━━━━━━━━━━━━━━━━━━━━━━━━━╇━━━━━━━━━━━━━━━━━━━━━━━━━━━━━╇━━━━━━━━━━━━━━━━━┩\n",
       "│ simple_rnn (<span style=\"color: #0087ff; text-decoration-color: #0087ff\">SimpleRNN</span>)               │ (<span style=\"color: #00d7ff; text-decoration-color: #00d7ff\">None</span>, <span style=\"color: #00af00; text-decoration-color: #00af00\">32</span>)                  │           <span style=\"color: #00af00; text-decoration-color: #00af00\">1,088</span> │\n",
       "├──────────────────────────────────────┼─────────────────────────────┼─────────────────┤\n",
       "│ dense_1 (<span style=\"color: #0087ff; text-decoration-color: #0087ff\">Dense</span>)                      │ (<span style=\"color: #00d7ff; text-decoration-color: #00d7ff\">None</span>, <span style=\"color: #00af00; text-decoration-color: #00af00\">6</span>)                   │             <span style=\"color: #00af00; text-decoration-color: #00af00\">198</span> │\n",
       "└──────────────────────────────────────┴─────────────────────────────┴─────────────────┘\n",
       "</pre>\n"
      ],
      "text/plain": [
       "┏━━━━━━━━━━━━━━━━━━━━━━━━━━━━━━━━━━━━━━┳━━━━━━━━━━━━━━━━━━━━━━━━━━━━━┳━━━━━━━━━━━━━━━━━┓\n",
       "┃\u001b[1m \u001b[0m\u001b[1mLayer (type)                        \u001b[0m\u001b[1m \u001b[0m┃\u001b[1m \u001b[0m\u001b[1mOutput Shape               \u001b[0m\u001b[1m \u001b[0m┃\u001b[1m \u001b[0m\u001b[1m        Param #\u001b[0m\u001b[1m \u001b[0m┃\n",
       "┡━━━━━━━━━━━━━━━━━━━━━━━━━━━━━━━━━━━━━━╇━━━━━━━━━━━━━━━━━━━━━━━━━━━━━╇━━━━━━━━━━━━━━━━━┩\n",
       "│ simple_rnn (\u001b[38;5;33mSimpleRNN\u001b[0m)               │ (\u001b[38;5;45mNone\u001b[0m, \u001b[38;5;34m32\u001b[0m)                  │           \u001b[38;5;34m1,088\u001b[0m │\n",
       "├──────────────────────────────────────┼─────────────────────────────┼─────────────────┤\n",
       "│ dense_1 (\u001b[38;5;33mDense\u001b[0m)                      │ (\u001b[38;5;45mNone\u001b[0m, \u001b[38;5;34m6\u001b[0m)                   │             \u001b[38;5;34m198\u001b[0m │\n",
       "└──────────────────────────────────────┴─────────────────────────────┴─────────────────┘\n"
      ]
     },
     "metadata": {},
     "output_type": "display_data"
    },
    {
     "data": {
      "text/html": [
       "<pre style=\"white-space:pre;overflow-x:auto;line-height:normal;font-family:Menlo,'DejaVu Sans Mono',consolas,'Courier New',monospace\"><span style=\"font-weight: bold\"> Total params: </span><span style=\"color: #00af00; text-decoration-color: #00af00\">1,286</span> (5.02 KB)\n",
       "</pre>\n"
      ],
      "text/plain": [
       "\u001b[1m Total params: \u001b[0m\u001b[38;5;34m1,286\u001b[0m (5.02 KB)\n"
      ]
     },
     "metadata": {},
     "output_type": "display_data"
    },
    {
     "data": {
      "text/html": [
       "<pre style=\"white-space:pre;overflow-x:auto;line-height:normal;font-family:Menlo,'DejaVu Sans Mono',consolas,'Courier New',monospace\"><span style=\"font-weight: bold\"> Trainable params: </span><span style=\"color: #00af00; text-decoration-color: #00af00\">1,286</span> (5.02 KB)\n",
       "</pre>\n"
      ],
      "text/plain": [
       "\u001b[1m Trainable params: \u001b[0m\u001b[38;5;34m1,286\u001b[0m (5.02 KB)\n"
      ]
     },
     "metadata": {},
     "output_type": "display_data"
    },
    {
     "data": {
      "text/html": [
       "<pre style=\"white-space:pre;overflow-x:auto;line-height:normal;font-family:Menlo,'DejaVu Sans Mono',consolas,'Courier New',monospace\"><span style=\"font-weight: bold\"> Non-trainable params: </span><span style=\"color: #00af00; text-decoration-color: #00af00\">0</span> (0.00 B)\n",
       "</pre>\n"
      ],
      "text/plain": [
       "\u001b[1m Non-trainable params: \u001b[0m\u001b[38;5;34m0\u001b[0m (0.00 B)\n"
      ]
     },
     "metadata": {},
     "output_type": "display_data"
    }
   ],
   "source": [
    "### using RNN \n",
    "# sequential SimpleRNN model defining\n",
    "from tensorflow.keras.layers import SimpleRNN\n",
    "model = Sequential()\n",
    "model.add(SimpleRNN(32,input_shape=(35,1),return_sequences=False))\n",
    "model.add(Dense(6,activation='softmax'))\n",
    "\n",
    "\n",
    "\n",
    "## compiling the model\n",
    "model.compile(optimizer='adam',loss='sparse_categorical_crossentropy',metrics=['accuracy'])\n",
    "model.summary()\n",
    "# return_sequence = False  --> means if you don,t want to stack again this model then specify False"
   ]
  },
  {
   "cell_type": "code",
   "execution_count": 41,
   "id": "da697868-7dcd-402e-914c-dce1bf2ebc69",
   "metadata": {},
   "outputs": [
    {
     "name": "stderr",
     "output_type": "stream",
     "text": [
      "WARNING:absl:You are saving your model as an HDF5 file via `model.save()` or `keras.saving.save_model(model)`. This file format is considered legacy. We recommend using instead the native Keras format, e.g. `model.save('my_model.keras')` or `keras.saving.save_model(model, 'my_model.keras')`. \n"
     ]
    }
   ],
   "source": [
    "## model save\n",
    "import os\n",
    "os.makedirs('models',exist_ok=True)  \n",
    "model.save('./models/lstm_model.h5')"
   ]
  },
  {
   "cell_type": "code",
   "execution_count": 42,
   "id": "c6a7978a-787e-4035-81bc-2cd4d442100f",
   "metadata": {},
   "outputs": [
    {
     "name": "stderr",
     "output_type": "stream",
     "text": [
      "WARNING:absl:Compiled the loaded model, but the compiled metrics have yet to be built. `model.compile_metrics` will be empty until you train or evaluate the model.\n"
     ]
    }
   ],
   "source": [
    "## to load the tensorflow models \n",
    "from tensorflow.keras.models import  load_model \n",
    "loaded_model = load_model('./models/lstm_model.h5')"
   ]
  },
  {
   "cell_type": "code",
   "execution_count": 43,
   "id": "da8ac144-64ef-4fa9-803e-dec5377adf58",
   "metadata": {},
   "outputs": [
    {
     "data": {
      "text/html": [
       "<pre style=\"white-space:pre;overflow-x:auto;line-height:normal;font-family:Menlo,'DejaVu Sans Mono',consolas,'Courier New',monospace\"><span style=\"font-weight: bold\">Model: \"sequential_1\"</span>\n",
       "</pre>\n"
      ],
      "text/plain": [
       "\u001b[1mModel: \"sequential_1\"\u001b[0m\n"
      ]
     },
     "metadata": {},
     "output_type": "display_data"
    },
    {
     "data": {
      "text/html": [
       "<pre style=\"white-space:pre;overflow-x:auto;line-height:normal;font-family:Menlo,'DejaVu Sans Mono',consolas,'Courier New',monospace\">┏━━━━━━━━━━━━━━━━━━━━━━━━━━━━━━━━━━━━━━┳━━━━━━━━━━━━━━━━━━━━━━━━━━━━━┳━━━━━━━━━━━━━━━━━┓\n",
       "┃<span style=\"font-weight: bold\"> Layer (type)                         </span>┃<span style=\"font-weight: bold\"> Output Shape                </span>┃<span style=\"font-weight: bold\">         Param # </span>┃\n",
       "┡━━━━━━━━━━━━━━━━━━━━━━━━━━━━━━━━━━━━━━╇━━━━━━━━━━━━━━━━━━━━━━━━━━━━━╇━━━━━━━━━━━━━━━━━┩\n",
       "│ simple_rnn (<span style=\"color: #0087ff; text-decoration-color: #0087ff\">SimpleRNN</span>)               │ (<span style=\"color: #00d7ff; text-decoration-color: #00d7ff\">None</span>, <span style=\"color: #00af00; text-decoration-color: #00af00\">32</span>)                  │           <span style=\"color: #00af00; text-decoration-color: #00af00\">1,088</span> │\n",
       "├──────────────────────────────────────┼─────────────────────────────┼─────────────────┤\n",
       "│ dense_1 (<span style=\"color: #0087ff; text-decoration-color: #0087ff\">Dense</span>)                      │ (<span style=\"color: #00d7ff; text-decoration-color: #00d7ff\">None</span>, <span style=\"color: #00af00; text-decoration-color: #00af00\">6</span>)                   │             <span style=\"color: #00af00; text-decoration-color: #00af00\">198</span> │\n",
       "└──────────────────────────────────────┴─────────────────────────────┴─────────────────┘\n",
       "</pre>\n"
      ],
      "text/plain": [
       "┏━━━━━━━━━━━━━━━━━━━━━━━━━━━━━━━━━━━━━━┳━━━━━━━━━━━━━━━━━━━━━━━━━━━━━┳━━━━━━━━━━━━━━━━━┓\n",
       "┃\u001b[1m \u001b[0m\u001b[1mLayer (type)                        \u001b[0m\u001b[1m \u001b[0m┃\u001b[1m \u001b[0m\u001b[1mOutput Shape               \u001b[0m\u001b[1m \u001b[0m┃\u001b[1m \u001b[0m\u001b[1m        Param #\u001b[0m\u001b[1m \u001b[0m┃\n",
       "┡━━━━━━━━━━━━━━━━━━━━━━━━━━━━━━━━━━━━━━╇━━━━━━━━━━━━━━━━━━━━━━━━━━━━━╇━━━━━━━━━━━━━━━━━┩\n",
       "│ simple_rnn (\u001b[38;5;33mSimpleRNN\u001b[0m)               │ (\u001b[38;5;45mNone\u001b[0m, \u001b[38;5;34m32\u001b[0m)                  │           \u001b[38;5;34m1,088\u001b[0m │\n",
       "├──────────────────────────────────────┼─────────────────────────────┼─────────────────┤\n",
       "│ dense_1 (\u001b[38;5;33mDense\u001b[0m)                      │ (\u001b[38;5;45mNone\u001b[0m, \u001b[38;5;34m6\u001b[0m)                   │             \u001b[38;5;34m198\u001b[0m │\n",
       "└──────────────────────────────────────┴─────────────────────────────┴─────────────────┘\n"
      ]
     },
     "metadata": {},
     "output_type": "display_data"
    },
    {
     "data": {
      "text/html": [
       "<pre style=\"white-space:pre;overflow-x:auto;line-height:normal;font-family:Menlo,'DejaVu Sans Mono',consolas,'Courier New',monospace\"><span style=\"font-weight: bold\"> Total params: </span><span style=\"color: #00af00; text-decoration-color: #00af00\">1,288</span> (5.04 KB)\n",
       "</pre>\n"
      ],
      "text/plain": [
       "\u001b[1m Total params: \u001b[0m\u001b[38;5;34m1,288\u001b[0m (5.04 KB)\n"
      ]
     },
     "metadata": {},
     "output_type": "display_data"
    },
    {
     "data": {
      "text/html": [
       "<pre style=\"white-space:pre;overflow-x:auto;line-height:normal;font-family:Menlo,'DejaVu Sans Mono',consolas,'Courier New',monospace\"><span style=\"font-weight: bold\"> Trainable params: </span><span style=\"color: #00af00; text-decoration-color: #00af00\">1,286</span> (5.02 KB)\n",
       "</pre>\n"
      ],
      "text/plain": [
       "\u001b[1m Trainable params: \u001b[0m\u001b[38;5;34m1,286\u001b[0m (5.02 KB)\n"
      ]
     },
     "metadata": {},
     "output_type": "display_data"
    },
    {
     "data": {
      "text/html": [
       "<pre style=\"white-space:pre;overflow-x:auto;line-height:normal;font-family:Menlo,'DejaVu Sans Mono',consolas,'Courier New',monospace\"><span style=\"font-weight: bold\"> Non-trainable params: </span><span style=\"color: #00af00; text-decoration-color: #00af00\">0</span> (0.00 B)\n",
       "</pre>\n"
      ],
      "text/plain": [
       "\u001b[1m Non-trainable params: \u001b[0m\u001b[38;5;34m0\u001b[0m (0.00 B)\n"
      ]
     },
     "metadata": {},
     "output_type": "display_data"
    },
    {
     "data": {
      "text/html": [
       "<pre style=\"white-space:pre;overflow-x:auto;line-height:normal;font-family:Menlo,'DejaVu Sans Mono',consolas,'Courier New',monospace\"><span style=\"font-weight: bold\"> Optimizer params: </span><span style=\"color: #00af00; text-decoration-color: #00af00\">2</span> (12.00 B)\n",
       "</pre>\n"
      ],
      "text/plain": [
       "\u001b[1m Optimizer params: \u001b[0m\u001b[38;5;34m2\u001b[0m (12.00 B)\n"
      ]
     },
     "metadata": {},
     "output_type": "display_data"
    }
   ],
   "source": [
    "loaded_model.summary()"
   ]
  }
 ],
 "metadata": {
  "kernelspec": {
   "display_name": "Python 3 (ipykernel)",
   "language": "python",
   "name": "python3"
  },
  "language_info": {
   "codemirror_mode": {
    "name": "ipython",
    "version": 3
   },
   "file_extension": ".py",
   "mimetype": "text/x-python",
   "name": "python",
   "nbconvert_exporter": "python",
   "pygments_lexer": "ipython3",
   "version": "3.12.4"
  }
 },
 "nbformat": 4,
 "nbformat_minor": 5
}
